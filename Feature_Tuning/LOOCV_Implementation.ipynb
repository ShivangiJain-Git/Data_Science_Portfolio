{
 "cells": [
  {
   "cell_type": "markdown",
   "metadata": {},
   "source": [
    "# Leave One Out Cross Validation"
   ]
  },
  {
   "cell_type": "markdown",
   "metadata": {},
   "source": [
    "- Another variation of K-fold cross validation.\n",
    "- In this method, a single observation (x1,y1) is used for the validation set and the remaining (x2,y2).....(xn,yn)\n",
    "  make up the training set.\n",
    "- The statistical model is fit on the n-1 training examples. If no. of records are 1000 then training samples will be\n",
    "  created 999.\n",
    "- The statistical model prediction yhat is made for excluded observation using x1.\n",
    "- MSE = (yhat - y)^2 for exclused point.\n",
    "- The MSE is unbaised but is poor estimate because it is highly variable.\n",
    "- We can repeat this by keeping evry datapoint for test, one at a time and using rest for training."
   ]
  },
  {
   "cell_type": "markdown",
   "metadata": {},
   "source": [
    "### Importing Libraries"
   ]
  },
  {
   "cell_type": "code",
   "execution_count": 1,
   "metadata": {},
   "outputs": [],
   "source": [
    "from numpy import array\n",
    "from sklearn.model_selection import LeaveOneOut"
   ]
  },
  {
   "cell_type": "markdown",
   "metadata": {},
   "source": [
    "### Implementing LOOCV"
   ]
  },
  {
   "cell_type": "code",
   "execution_count": 2,
   "metadata": {},
   "outputs": [
    {
     "name": "stdout",
     "output_type": "stream",
     "text": [
      "train: [ 20  30  40  50  60  70  80  90 100], test: [10]\n",
      "train: [ 10  30  40  50  60  70  80  90 100], test: [20]\n",
      "train: [ 10  20  40  50  60  70  80  90 100], test: [30]\n",
      "train: [ 10  20  30  50  60  70  80  90 100], test: [40]\n",
      "train: [ 10  20  30  40  60  70  80  90 100], test: [50]\n",
      "train: [ 10  20  30  40  50  70  80  90 100], test: [60]\n",
      "train: [ 10  20  30  40  50  60  80  90 100], test: [70]\n",
      "train: [ 10  20  30  40  50  60  70  90 100], test: [80]\n",
      "train: [ 10  20  30  40  50  60  70  80 100], test: [90]\n",
      "train: [10 20 30 40 50 60 70 80 90], test: [100]\n"
     ]
    }
   ],
   "source": [
    "# data sample\n",
    "data = array([10,20,30,40,50,60,70,80,90,100])\n",
    "\n",
    "# prepare cross validation\n",
    "loocv = LeaveOneOut()\n",
    "\n",
    "# enumerate splits\n",
    "for train, test in loocv.split(data):\n",
    "\tprint('train: %s, test: %s' % (data[train], data[test]))"
   ]
  },
  {
   "cell_type": "markdown",
   "metadata": {},
   "source": [
    "Here we have 10 datapoints and we have created 10 samples and no. of datapoints in each sample for training is 9 and for test only 1. "
   ]
  },
  {
   "cell_type": "code",
   "execution_count": null,
   "metadata": {},
   "outputs": [],
   "source": []
  }
 ],
 "metadata": {
  "kernelspec": {
   "display_name": "Python 3",
   "language": "python",
   "name": "python3"
  },
  "language_info": {
   "codemirror_mode": {
    "name": "ipython",
    "version": 3
   },
   "file_extension": ".py",
   "mimetype": "text/x-python",
   "name": "python",
   "nbconvert_exporter": "python",
   "pygments_lexer": "ipython3",
   "version": "3.7.6"
  }
 },
 "nbformat": 4,
 "nbformat_minor": 2
}
