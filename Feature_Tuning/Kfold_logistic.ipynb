{
 "cells": [
  {
   "cell_type": "markdown",
   "metadata": {},
   "source": [
    "# Kfold Logistics "
   ]
  },
  {
   "cell_type": "markdown",
   "metadata": {},
   "source": [
    "1. Cross-validation is a technique to evaluate / validate a machine learning\n",
    "   model and estimate its performance on unseen data\n",
    "2. The techniques creates and validates given model multiple times\n",
    "3. The number of times it does so, is dependent on the value selected by \n",
    "   the user of the technique. Usually expressed as “K” which is always an integer\n",
    "4. The sequence of steps used is iterated through as many times as K\n",
    "5. The process begins by dividing the original data into K parts / folds using random function"
   ]
  },
  {
   "cell_type": "markdown",
   "metadata": {},
   "source": [
    "### Importing Libraries"
   ]
  },
  {
   "cell_type": "code",
   "execution_count": 8,
   "metadata": {},
   "outputs": [],
   "source": [
    "from pandas import read_csv\n",
    "import warnings\n",
    "from sklearn.model_selection import train_test_split\n",
    "from sklearn.linear_model import LogisticRegression\n",
    "from sklearn.model_selection import KFold\n",
    "from sklearn.model_selection import cross_val_score\n",
    "import pandas as pd\n",
    "import numpy as np\n",
    "\n",
    "warnings.filterwarnings('ignore')"
   ]
  },
  {
   "cell_type": "markdown",
   "metadata": {},
   "source": [
    "### Implementing KFold"
   ]
  },
  {
   "cell_type": "code",
   "execution_count": 9,
   "metadata": {},
   "outputs": [
    {
     "name": "stdout",
     "output_type": "stream",
     "text": [
      "[0.625      0.6875     0.625      0.75       0.75       0.875\n",
      " 0.875      0.8125     0.8125     0.875      0.8125     0.75\n",
      " 0.8125     0.5625     0.9375     0.75       0.6875     0.625\n",
      " 0.6        0.8        0.6        0.73333333 0.8        0.86666667\n",
      " 0.8        0.73333333 0.73333333 0.86666667 0.73333333 0.8\n",
      " 0.8        0.66666667 0.8        0.93333333 0.73333333 0.86666667\n",
      " 0.73333333 0.86666667 0.93333333 1.         0.8        0.73333333\n",
      " 0.6        0.66666667 0.86666667 0.66666667 0.8        0.86666667\n",
      " 0.86666667 0.8       ]\n",
      "Accuracy: 77.383% (9.969%)\n"
     ]
    }
   ],
   "source": [
    "# filename = 'pima-indians-diabetes.csv'\n",
    "# names = ['preg', 'plas', 'pres', 'skin', 'test', 'mass', 'pedi', 'age', 'class']\n",
    "# dataframe = pd.read_csv(filename, names=names)\n",
    "\n",
    "dataframe = pd.read_csv('pima-indians-diabetes.csv')\n",
    "\n",
    "array = dataframe.values\n",
    "X = array[:,0:8]\n",
    "Y = array[:,8]\n",
    "\n",
    "X_train, X_test, Y_train, Y_test = train_test_split(X, Y, test_size=0.50, random_state=1)\n",
    "\n",
    "num_folds = 50\n",
    "seed = 7\n",
    "\n",
    "kfold = KFold(n_splits=num_folds, random_state=seed)\n",
    "model = LogisticRegression()\n",
    "results = cross_val_score(model, X, Y, cv=kfold)\n",
    "print(results)\n",
    "print(\"Accuracy: %.3f%% (%.3f%%)\" % (results.mean()*100.0, results.std()*100.0))"
   ]
  },
  {
   "cell_type": "code",
   "execution_count": 2,
   "metadata": {},
   "outputs": [
    {
     "data": {
      "text/plain": [
       "((768, 8), (768,))"
      ]
     },
     "execution_count": 2,
     "metadata": {},
     "output_type": "execute_result"
    }
   ],
   "source": [
    "X.shape,Y.shape"
   ]
  }
 ],
 "metadata": {
  "kernelspec": {
   "display_name": "Python 3",
   "language": "python",
   "name": "python3"
  },
  "language_info": {
   "codemirror_mode": {
    "name": "ipython",
    "version": 3
   },
   "file_extension": ".py",
   "mimetype": "text/x-python",
   "name": "python",
   "nbconvert_exporter": "python",
   "pygments_lexer": "ipython3",
   "version": "3.7.6"
  }
 },
 "nbformat": 4,
 "nbformat_minor": 2
}
