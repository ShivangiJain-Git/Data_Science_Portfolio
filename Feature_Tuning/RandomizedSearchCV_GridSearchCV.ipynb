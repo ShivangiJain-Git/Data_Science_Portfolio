{
 "cells": [
  {
   "cell_type": "markdown",
   "metadata": {
    "colab": {},
    "colab_type": "code",
    "id": "iWuzCQLW3wXF"
   },
   "source": [
    "# Randomized Search"
   ]
  },
  {
   "cell_type": "markdown",
   "metadata": {},
   "source": [
    "\n",
    "1. Random search **differs from grid search**. Instead of providing a discrete set of values to explore on each     hyperparameter (parameter grid), we provide a statistical distribution.\n",
    "2. Values for the **different hyper parameters are picked up at random** from this combine distribution\n",
    "3. The motivation to use random search in place of grid search is that for many cases, hyperparameters are not equally important."
   ]
  },
  {
   "cell_type": "markdown",
   "metadata": {},
   "source": [
    "### Importing Libraries"
   ]
  },
  {
   "cell_type": "code",
   "execution_count": 2,
   "metadata": {
    "colab": {},
    "colab_type": "code",
    "id": "p2MVdy__3wXM"
   },
   "outputs": [],
   "source": [
    "import numpy as np\n",
    "from time import time\n",
    "from scipy.stats import randint as sp_randint\n",
    "from sklearn.model_selection import GridSearchCV\n",
    "from sklearn.model_selection import RandomizedSearchCV\n",
    "from sklearn.datasets import load_digits\n",
    "from sklearn.ensemble import RandomForestClassifier\n",
    "%matplotlib inline"
   ]
  },
  {
   "cell_type": "markdown",
   "metadata": {},
   "source": [
    "### Loading dataset"
   ]
  },
  {
   "cell_type": "code",
   "execution_count": 3,
   "metadata": {
    "colab": {},
    "colab_type": "code",
    "id": "bfdKxeQF3wXR"
   },
   "outputs": [],
   "source": [
    "# get data\n",
    "digits = load_digits()  # Source : http://archive.ics.uci.edu/ml/datasets/Pen-Based+Recognition+of+Handwritten+Digits\n",
    "X, y = digits.data, digits.target"
   ]
  },
  {
   "cell_type": "markdown",
   "metadata": {},
   "source": [
    "### Selecting a Classifier "
   ]
  },
  {
   "cell_type": "code",
   "execution_count": 6,
   "metadata": {
    "colab": {},
    "colab_type": "code",
    "id": "EDAhL7Yc3wXY"
   },
   "outputs": [],
   "source": [
    "#build a classifier\n",
    "clf = RandomForestClassifier(n_estimators=50)"
   ]
  },
  {
   "cell_type": "markdown",
   "metadata": {},
   "source": [
    "### Specify Parameters"
   ]
  },
  {
   "cell_type": "code",
   "execution_count": 7,
   "metadata": {
    "colab": {},
    "colab_type": "code",
    "id": "wY-kKYFd3wXb"
   },
   "outputs": [],
   "source": [
    "#specify parameters and distributions to sample from\n",
    "param_dist = {\"max_depth\": [3, None],\n",
    "              \"max_features\": sp_randint(1, 11),\n",
    "              \"min_samples_split\": sp_randint(2, 11),\n",
    "              \"min_samples_leaf\": sp_randint(1, 11),\n",
    "              \"bootstrap\": [True, False],\n",
    "              \"criterion\": [\"gini\", \"entropy\"]}"
   ]
  },
  {
   "cell_type": "markdown",
   "metadata": {},
   "source": [
    "### Running RandomizedSearch"
   ]
  },
  {
   "cell_type": "code",
   "execution_count": 15,
   "metadata": {
    "colab": {},
    "colab_type": "code",
    "id": "HsdZfVy43wXe"
   },
   "outputs": [],
   "source": [
    "#run randomized search\n",
    "samples = 10  # number of random samples \n",
    "randomCV = RandomizedSearchCV(clf, param_distributions=param_dist, n_iter=samples) #default cv = 3"
   ]
  },
  {
   "cell_type": "code",
   "execution_count": 16,
   "metadata": {
    "colab": {},
    "colab_type": "code",
    "id": "FnDYMJxz3wXi",
    "outputId": "c6ac3a88-6eb7-4cc8-a241-82d89b7d4307"
   },
   "outputs": [
    {
     "name": "stdout",
     "output_type": "stream",
     "text": [
      "{'bootstrap': False, 'criterion': 'entropy', 'max_depth': None, 'max_features': 6, 'min_samples_leaf': 4, 'min_samples_split': 10}\n"
     ]
    }
   ],
   "source": [
    "randomCV.fit(X, y)\n",
    "print(randomCV.best_params_)"
   ]
  },
  {
   "cell_type": "code",
   "execution_count": 17,
   "metadata": {
    "colab": {},
    "colab_type": "code",
    "id": "BYAjFmNl3wXm"
   },
   "outputs": [],
   "source": [
    "# use a full grid over all parameters\n",
    "param_grid = {\"max_depth\": [3, None],\n",
    "              \"max_features\": [1, 3, 10],\n",
    "              \"min_samples_split\": [2, 3, 10],\n",
    "              \"min_samples_leaf\": [1, 3, 10],\n",
    "              \"bootstrap\": [True, False],\n",
    "              \"criterion\": [\"gini\", \"entropy\"]}"
   ]
  },
  {
   "cell_type": "code",
   "execution_count": 11,
   "metadata": {
    "colab": {},
    "colab_type": "code",
    "id": "flbwV9CY3wXp",
    "outputId": "27b96b5b-4368-4fe6-c1c1-8d7213324915"
   },
   "outputs": [
    {
     "data": {
      "text/plain": [
       "GridSearchCV(estimator=RandomForestClassifier(n_estimators=50),\n",
       "             param_grid={'bootstrap': [True, False],\n",
       "                         'criterion': ['gini', 'entropy'],\n",
       "                         'max_depth': [3, None], 'max_features': [1, 3, 10],\n",
       "                         'min_samples_leaf': [1, 3, 10],\n",
       "                         'min_samples_split': [2, 3, 10]})"
      ]
     },
     "execution_count": 11,
     "metadata": {},
     "output_type": "execute_result"
    }
   ],
   "source": [
    "# run grid search\n",
    "grid_search = GridSearchCV(clf, param_grid=param_grid)\n",
    "start = time()\n",
    "grid_search.fit(X, y)"
   ]
  },
  {
   "cell_type": "code",
   "execution_count": 12,
   "metadata": {
    "colab": {},
    "colab_type": "code",
    "id": "VexE_JsR3wXs",
    "outputId": "3f6a08ba-ffa7-4b89-9f38-1262abb69f15"
   },
   "outputs": [
    {
     "data": {
      "text/plain": [
       "{'bootstrap': False,\n",
       " 'criterion': 'gini',\n",
       " 'max_depth': None,\n",
       " 'max_features': 3,\n",
       " 'min_samples_leaf': 1,\n",
       " 'min_samples_split': 3}"
      ]
     },
     "execution_count": 12,
     "metadata": {},
     "output_type": "execute_result"
    }
   ],
   "source": [
    "grid_search.best_params_"
   ]
  },
  {
   "cell_type": "code",
   "execution_count": 13,
   "metadata": {
    "colab": {},
    "colab_type": "code",
    "id": "_EjiJe6E3wXv",
    "outputId": "9854d20b-c116-4c6a-bf22-97e1d46c64b1"
   },
   "outputs": [
    {
     "data": {
      "text/plain": [
       "array([0.81969824, 0.82139431, 0.82082173, 0.81583411, 0.83863045,\n",
       "       0.8141597 , 0.81801764, 0.82583565, 0.80525379, 0.85142371,\n",
       "       0.84696998, 0.84196534, 0.83864593, 0.84364903, 0.84754565,\n",
       "       0.84808883, 0.84474466, 0.8375178 , 0.81803931, 0.81024915,\n",
       "       0.81805169, 0.82582482, 0.82306097, 0.82416744, 0.8258403 ,\n",
       "       0.81302228, 0.82527546, 0.93156763, 0.93046425, 0.92209842,\n",
       "       0.91153822, 0.90874342, 0.91153358, 0.87313835, 0.8814918 ,\n",
       "       0.87645621, 0.93769421, 0.93045961, 0.92712628, 0.92377283,\n",
       "       0.93100898, 0.92766481, 0.89929434, 0.90875271, 0.91042556,\n",
       "       0.92934386, 0.9349087 , 0.92768647, 0.92266636, 0.92323429,\n",
       "       0.92600898, 0.90820644, 0.90709223, 0.89985608, 0.80967502,\n",
       "       0.82305323, 0.81303002, 0.81082637, 0.80467348, 0.81414887,\n",
       "       0.82081244, 0.80244197, 0.81025224, 0.8508697 , 0.84141597,\n",
       "       0.83974776, 0.83696534, 0.84531414, 0.83472764, 0.84253791,\n",
       "       0.84140823, 0.85142216, 0.82415816, 0.82193903, 0.82304085,\n",
       "       0.83304859, 0.82082173, 0.82027236, 0.82860724, 0.81247601,\n",
       "       0.81970133, 0.92489167, 0.93378675, 0.92267255, 0.89929743,\n",
       "       0.90263231, 0.91932219, 0.87925874, 0.87647787, 0.88481894,\n",
       "       0.93045961, 0.93268338, 0.92767255, 0.92545187, 0.92266481,\n",
       "       0.92488858, 0.89597029, 0.90652584, 0.91209997, 0.93213401,\n",
       "       0.93602136, 0.92601052, 0.92935005, 0.91989632, 0.92656298,\n",
       "       0.9048731 , 0.91432219, 0.90653358, 0.81470443, 0.81472454,\n",
       "       0.82026927, 0.83140669, 0.82751625, 0.82917054, 0.80914268,\n",
       "       0.81972919, 0.81970443, 0.83696069, 0.84418756, 0.84085577,\n",
       "       0.8408666 , 0.84029867, 0.84363819, 0.84364593, 0.84643145,\n",
       "       0.82470597, 0.82583411, 0.81914887, 0.81359331, 0.81915042,\n",
       "       0.81693903, 0.81915351, 0.80969359, 0.80914113, 0.82806561,\n",
       "       0.93768957, 0.9282312 , 0.92711544, 0.92322965, 0.91655215,\n",
       "       0.92043021, 0.89037914, 0.88037914, 0.8992866 , 0.9415831 ,\n",
       "       0.94437016, 0.94102909, 0.94102909, 0.93211854, 0.93545497,\n",
       "       0.91376664, 0.91098886, 0.92377283, 0.93991798, 0.93991334,\n",
       "       0.93213092, 0.93269266, 0.93044878, 0.93102136, 0.90876199,\n",
       "       0.91209997, 0.91210152, 0.81247292, 0.80801764, 0.81581863,\n",
       "       0.82029093, 0.82139276, 0.81136955, 0.81138347, 0.80413185,\n",
       "       0.81082637, 0.83976942, 0.83696534, 0.83697307, 0.83808264,\n",
       "       0.84753327, 0.82915816, 0.82472145, 0.83362117, 0.82359796,\n",
       "       0.81470752, 0.82306097, 0.79465336, 0.81916899, 0.82414887,\n",
       "       0.80413804, 0.79856546, 0.8041334 , 0.82804859, 0.93379449,\n",
       "       0.93546425, 0.93379294, 0.91376199, 0.91653049, 0.91597957,\n",
       "       0.89205664, 0.88427577, 0.89538842, 0.94159548, 0.93769112,\n",
       "       0.93601981, 0.92935469, 0.93212937, 0.92878211, 0.91542711,\n",
       "       0.91154132, 0.917671  , 0.94046271, 0.93880532, 0.93268493,\n",
       "       0.9299056 , 0.93268183, 0.92545187, 0.91877592, 0.92100588,\n",
       "       0.91488548])"
      ]
     },
     "execution_count": 13,
     "metadata": {},
     "output_type": "execute_result"
    }
   ],
   "source": [
    "grid_search.cv_results_['mean_test_score']"
   ]
  },
  {
   "cell_type": "code",
   "execution_count": 14,
   "metadata": {
    "colab": {},
    "colab_type": "code",
    "id": "Qn-_f2f-3wXy",
    "outputId": "7fe5efb0-7143-49d3-e4d9-630aa0c833c7"
   },
   "outputs": [
    {
     "data": {
      "text/plain": [
       "RandomForestClassifier(bootstrap=False, max_features=3, min_samples_split=3,\n",
       "                       n_estimators=50)"
      ]
     },
     "execution_count": 14,
     "metadata": {},
     "output_type": "execute_result"
    }
   ],
   "source": [
    "grid_search.best_estimator_"
   ]
  },
  {
   "cell_type": "code",
   "execution_count": null,
   "metadata": {
    "colab": {},
    "colab_type": "code",
    "id": "W7oP6_oS3wX0"
   },
   "outputs": [],
   "source": []
  },
  {
   "cell_type": "code",
   "execution_count": null,
   "metadata": {},
   "outputs": [],
   "source": []
  }
 ],
 "metadata": {
  "colab": {
   "name": "RandomizedSearchCV_GridSearchCV.ipynb",
   "provenance": [],
   "version": "0.3.2"
  },
  "kernelspec": {
   "display_name": "Python 3",
   "language": "python",
   "name": "python3"
  },
  "language_info": {
   "codemirror_mode": {
    "name": "ipython",
    "version": 3
   },
   "file_extension": ".py",
   "mimetype": "text/x-python",
   "name": "python",
   "nbconvert_exporter": "python",
   "pygments_lexer": "ipython3",
   "version": "3.7.6"
  }
 },
 "nbformat": 4,
 "nbformat_minor": 1
}
